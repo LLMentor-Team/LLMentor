{
 "cells": [
  {
   "cell_type": "markdown",
   "id": "de2c2c46",
   "metadata": {},
   "source": [
    "# 📘 LLMentor – Notebook per gestione Syllabus PDF\n",
    "\n",
    "Questo notebook ti permette di:\n",
    "- Caricare un file PDF di syllabus\n",
    "- Estrarne il testo\n",
    "- Convertirlo in formato tabellare\n",
    "- Salvare il risultato in un file CSV nella cartella `data/`\n"
   ]
  },
  {
   "cell_type": "code",
   "execution_count": null,
   "id": "733a685b",
   "metadata": {},
   "outputs": [],
   "source": [
    "import pandas as pd\n",
    "import fitz  # PyMuPDF\n",
    "import re\n",
    "import os\n"
   ]
  },
  {
   "cell_type": "code",
   "execution_count": null,
   "id": "fe529b9e",
   "metadata": {},
   "outputs": [],
   "source": [
    "# 🔍 Funzione per estrazione testo da PDF\n",
    "def estrai_testo_da_pdf(percorso_pdf):\n",
    "    doc = fitz.open(percorso_pdf)\n",
    "    testo = \"\"\n",
    "    for page in doc:\n",
    "        testo += page.get_text()\n",
    "    return testo\n"
   ]
  },
  {
   "cell_type": "code",
   "execution_count": null,
   "id": "15c9fff2",
   "metadata": {},
   "outputs": [],
   "source": [
    "# 🔍 Funzione per parsare testo in DataFrame in modo flessibile\n",
    "def syllabus_to_dataframe_flessibile(testo):\n",
    "    righe = []\n",
    "    for line in testo.splitlines():\n",
    "        line = line.strip()\n",
    "        if not line:\n",
    "            continue\n",
    "        match = re.search(r\"(Settimana|Week)?\\s*([0-9]{1,2})\\s*[:\\-–]\\s*(.+)\", line, re.IGNORECASE)\n",
    "        if match:\n",
    "            settimana = int(match.group(2))\n",
    "            argomento = match.group(3).strip()\n",
    "            righe.append({\n",
    "                \"settimana\": settimana,\n",
    "                \"modulo\": \"Generico\",\n",
    "                \"argomento principale\": argomento\n",
    "            })\n",
    "        elif re.match(r\"^\\d{1,2}\\.\\s\", line):\n",
    "            numero, argomento = line.split(\".\", 1)\n",
    "            righe.append({\n",
    "                \"settimana\": int(numero),\n",
    "                \"modulo\": \"Generico\",\n",
    "                \"argomento principale\": argomento.strip()\n",
    "            })\n",
    "    return pd.DataFrame(righe)\n"
   ]
  },
  {
   "cell_type": "code",
   "execution_count": null,
   "id": "e0595d53",
   "metadata": {},
   "outputs": [],
   "source": [
    "# 📂 Inserisci qui il percorso del tuo PDF\n",
    "percorso_pdf = \"SEC_EPO_Syllabus_Botti.pdf\"  # Cambia con il nome del tuo file PDF\n",
    "testo = estrai_testo_da_pdf(percorso_pdf)\n",
    "print(testo[:1000])  # Anteprima\n"
   ]
  },
  {
   "cell_type": "code",
   "execution_count": null,
   "id": "7d902d07",
   "metadata": {},
   "outputs": [],
   "source": [
    "# 🔄 Parsing e visualizzazione\n",
    "df = syllabus_to_dataframe_flessibile(testo)\n",
    "df.head()\n"
   ]
  },
  {
   "cell_type": "code",
   "execution_count": null,
   "id": "0968021c",
   "metadata": {},
   "outputs": [],
   "source": [
    "# ✅ Verifica prima del salvataggio\n",
    "if df.empty:\n",
    "    print(\"⚠️ Attenzione: il DataFrame è vuoto! Il file CSV NON sarà salvato.\")\n",
    "else:\n",
    "    print(\"✅ Il DataFrame contiene\", len(df), \"righe. Pronto per il salvataggio.\")\n",
    "    os.makedirs(\"data\", exist_ok=True)\n",
    "    df.to_csv(\"data/syllabus_estratto.csv\", index=False)\n",
    "    print(\"💾 File salvato in: data/syllabus_estratto.csv\")\n"
   ]
  }
 ],
 "metadata": {},
 "nbformat": 4,
 "nbformat_minor": 5
}
