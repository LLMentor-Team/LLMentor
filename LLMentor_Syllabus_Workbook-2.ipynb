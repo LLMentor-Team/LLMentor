{
 "cells": [
  {
   "cell_type": "markdown",
   "id": "de2c2c46",
   "metadata": {},
   "source": [
    "# 📘 LLMentor – Notebook per gestione Syllabus PDF\n",
    "\n",
    "Questo notebook ti permette di:\n",
    "- Caricare un file PDF di syllabus\n",
    "- Estrarne il testo\n",
    "- Convertirlo in formato tabellare\n",
    "- Salvare il risultato in un file CSV nella cartella `data/`\n"
   ]
  },
  {
   "cell_type": "code",
   "execution_count": 1,
   "id": "733a685b",
   "metadata": {},
   "outputs": [],
   "source": [
    "import pandas as pd\n",
    "import fitz  # PyMuPDF\n",
    "import re\n",
    "import os\n"
   ]
  },
  {
   "cell_type": "code",
   "execution_count": 2,
   "id": "fe529b9e",
   "metadata": {},
   "outputs": [],
   "source": [
    "# 🔍 Funzione per estrazione testo da PDF\n",
    "def estrai_testo_da_pdf(percorso_pdf):\n",
    "    doc = fitz.open(percorso_pdf)\n",
    "    testo = \"\"\n",
    "    for page in doc:\n",
    "        testo += page.get_text()\n",
    "    return testo\n"
   ]
  },
  {
   "cell_type": "code",
   "execution_count": 3,
   "id": "15c9fff2",
   "metadata": {},
   "outputs": [],
   "source": [
    "def syllabus_to_dataframe_flessibile(testo):\n",
    "    righe = []\n",
    "    for line in testo.splitlines():\n",
    "        line = line.strip()\n",
    "\n",
    "        if not line:\n",
    "            continue  # Salta righe vuote\n",
    "\n",
    "        # Filtra linee che sembrano CAP, indirizzi o numeri\n",
    "        if re.match(r\"^\\\\d{5}\\\\s+Roma$\", line):\n",
    "            continue\n",
    "        if re.match(r\"^\\\\d{1,3}$\", line):\n",
    "            continue\n",
    "        if len(line) < 5:\n",
    "            continue\n",
    "\n",
    "        # Estrai con pattern\n",
    "        match = re.search(r\"(Settimana|Week)?\\\\s*([0-9]{1,2})\\\\s*[:\\\\-–]\\\\s*(.+)\", line, re.IGNORECASE)\n",
    "        if match:\n",
    "            settimana = int(match.group(2))\n",
    "            argomento = match.group(3).strip()\n",
    "            righe.append({\n",
    "                \"settimana\": settimana,\n",
    "                \"modulo\": \"Generico\",\n",
    "                \"argomento principale\": argomento\n",
    "            })\n",
    "\n",
    "        elif re.match(r\"^\\\\d{1,2}\\\\.\\\\s\", line):\n",
    "            numero, argomento = line.split(\".\", 1)\n",
    "            righe.append({\n",
    "                \"settimana\": int(numero),\n",
    "                \"modulo\": \"Generico\",\n",
    "                \"argomento principale\": argomento.strip()\n",
    "            })\n",
    "\n",
    "    return pd.DataFrame(righe)\n",
    "\n"
   ]
  },
  {
   "cell_type": "code",
   "execution_count": 4,
   "id": "e0595d53",
   "metadata": {},
   "outputs": [
    {
     "name": "stdout",
     "output_type": "stream",
     "text": [
      " \n",
      " \n",
      "UNIVERSITÀ DEGLI STUDI GUGLIELMO MARCONI \n",
      " \n",
      " \n",
      " \n",
      " \n",
      " \n",
      " \n",
      " \n",
      " \n",
      " \n",
      "Via Plinio 44 - 00193 Roma \n",
      "Tel. +39  06 377251  Fax: +39 06 37725212 \n",
      "www.unimarconi.it / www.marconistudios.it \n",
      "info@unimarconi.it \n",
      "Codice Fiscale e Partita IVA: 07154361005 \n",
      "               \n",
      " \n",
      " \n",
      "1 \n",
      "Dati generali del Corso \n",
      " \n",
      "Data \n",
      "Non prevista \n",
      "Crediti \n",
      "Quarter Credits: 4.5 \n",
      "CFU / ECTS: 06 \n",
      "Titolo del corso Diritto tributario \n",
      "Ore di studio \n",
      "totali \n",
      "150 \n",
      "Ore di studio \n",
      "individuale \n",
      "114 \n",
      "Ore di \n",
      "didattica \n",
      "erogativa \n",
      "30 h (15 videolezioni) \n",
      "Ore \n",
      "di \n",
      "didattica \n",
      "interattiva \n",
      "6 h \n",
      " \n",
      "Calendario delle lezioni \n",
      "L’Insegnamento è erogato online e lo studio avviene per lo più su materiali fruibili in modalità \n",
      "asincrona. Ove previsto, eventi sincroni come le Aule Virtuali (Didattica Interattiva) vengono \n",
      "periodicamente pianificati e calendarizzati dal Docente o dal Tutor Disciplinare del corso. Si veda \n",
      "più avanti il dettaglio dei calendari didattici previsti per l’Insegnamento. \n",
      " \n",
      "Nome e recapito del docente \n",
      "Prof.ssa Manuela San\n"
     ]
    }
   ],
   "source": [
    "# Inserisci qui il percorso del tuo PDF\n",
    "percorso_pdf = \"SEC_DTR_Sillabo_SantamariaM.pdf\"  # Cambia con il nome del tuo file PDF\n",
    "testo = estrai_testo_da_pdf(percorso_pdf)\n",
    "print(testo[:1000])  # Anteprima\n"
   ]
  },
  {
   "cell_type": "code",
   "execution_count": 5,
   "id": "7d902d07",
   "metadata": {},
   "outputs": [
    {
     "data": {
      "text/html": [
       "<div>\n",
       "<style scoped>\n",
       "    .dataframe tbody tr th:only-of-type {\n",
       "        vertical-align: middle;\n",
       "    }\n",
       "\n",
       "    .dataframe tbody tr th {\n",
       "        vertical-align: top;\n",
       "    }\n",
       "\n",
       "    .dataframe thead th {\n",
       "        text-align: right;\n",
       "    }\n",
       "</style>\n",
       "<table border=\"1\" class=\"dataframe\">\n",
       "  <thead>\n",
       "    <tr style=\"text-align: right;\">\n",
       "      <th></th>\n",
       "    </tr>\n",
       "  </thead>\n",
       "  <tbody>\n",
       "  </tbody>\n",
       "</table>\n",
       "</div>"
      ],
      "text/plain": [
       "Empty DataFrame\n",
       "Columns: []\n",
       "Index: []"
      ]
     },
     "execution_count": 5,
     "metadata": {},
     "output_type": "execute_result"
    }
   ],
   "source": [
    "# 🔄 Parsing e visualizzazione\n",
    "df = syllabus_to_dataframe_flessibile(testo)\n",
    "df.head()\n"
   ]
  },
  {
   "cell_type": "code",
   "execution_count": 6,
   "id": "eefd7244",
   "metadata": {
    "ExecuteTime": {
     "end_time": "2025-04-15T19:13:31.478581Z",
     "start_time": "2025-04-15T19:13:31.467559Z"
    }
   },
   "outputs": [
    {
     "name": "stdout",
     "output_type": "stream",
     "text": [
      "✅ File salvato in data/syllabus_estratto.csv\n"
     ]
    }
   ],
   "source": [
    "# 💾 Salvataggio in CSV\n",
    "os.makedirs(\"data\", exist_ok=True)\n",
    "df.to_csv(\"data/syllabus_estratto.csv\", index=False)\n",
    "print(\"✅ File salvato in data/syllabus_estratto.csv\")\n"
   ]
  },
  {
   "cell_type": "code",
   "execution_count": null,
   "id": "db0caf25-1df3-440a-838d-4c611132d48c",
   "metadata": {},
   "outputs": [],
   "source": []
  }
 ],
 "metadata": {
  "kernelspec": {
   "display_name": "Python (LLMentor)",
   "language": "python",
   "name": "nome_venv"
  },
  "language_info": {
   "codemirror_mode": {
    "name": "ipython",
    "version": 3
   },
   "file_extension": ".py",
   "mimetype": "text/x-python",
   "name": "python",
   "nbconvert_exporter": "python",
   "pygments_lexer": "ipython3",
   "version": "3.11.7"
  }
 },
 "nbformat": 4,
 "nbformat_minor": 5
}
