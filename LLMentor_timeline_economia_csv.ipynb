{
 "cells": [
  {
   "cell_type": "markdown",
   "id": "de2c2c46",
   "metadata": {},
   "source": [
    "# 📘 LLMentor – Notebook per gestione Syllabus PDF\n",
    "\n",
    "Questo notebook ti permette di:\n",
    "-\n",
    "-\n",
    "-\n",
    "-\n"
   ]
  },
  {
   "cell_type": "code",
   "execution_count": null,
   "id": "db0caf25-1df3-440a-838d-4c611132d48c",
   "metadata": {},
   "outputs": [],
   "source": [
    "# LLMentor – Timeline Studio per Syllabus\n",
    "import pandas as pd\n",
    "from datetime import datetime, timedelta\n",
    "import plotly.express as px\n",
    "\n",
    "df = pd.read_csv(\"data/economia_politica.csv\")\n",
    "df.columns = df.columns.str.strip().str.lower()  # standardizza nomi colonne"
   ]
  },
  {
   "metadata": {},
   "cell_type": "code",
   "outputs": [],
   "execution_count": null,
   "source": [
    "# Parametri\n",
    "settimane = 4\n",
    "argomenti = df[\"argomento\"].dropna().tolist()\n",
    "totale = len(argomenti)\n",
    "\n",
    "# Distribuzione argomenti\n",
    "per_settimana = totale // settimane\n",
    "distribuzione = [per_settimana] * settimane\n",
    "for i in range(totale % settimane):\n",
    "    distribuzione[i] += 1"
   ],
   "id": "315be800119140fc"
  },
  {
   "metadata": {},
   "cell_type": "code",
   "outputs": [],
   "execution_count": null,
   "source": [
    "# Timeline DataFrame\n",
    "piano = []\n",
    "start_date = datetime.today()\n",
    "inizio = 0\n",
    "\n",
    "for i, num in enumerate(distribuzione):\n",
    "    settimana = i + 1\n",
    "    fine = inizio + num\n",
    "    subset = argomenti[inizio:fine]\n",
    "    data_inizio = start_date + timedelta(weeks=i)\n",
    "    data_fine = data_inizio + timedelta(days=6)\n",
    "    piano.append({\n",
    "        \"Settimana\": f\"Settimana {settimana}\",\n",
    "        \"Argomenti\": \"\\n\".join(subset),\n",
    "        \"Inizio\": data_inizio,\n",
    "        \"Fine\": data_fine\n",
    "    })\n",
    "    inizio = fine\n",
    "\n",
    "df_timeline = pd.DataFrame(piano)\n",
    "df_timeline.head()"
   ],
   "id": "da07893f347a458b"
  },
  {
   "metadata": {},
   "cell_type": "code",
   "outputs": [],
   "execution_count": null,
   "source": [
    "fig = px.timeline(\n",
    "    df_timeline,\n",
    "    x_start=\"Inizio\",\n",
    "    x_end=\"Fine\",\n",
    "    y=\"Settimana\",\n",
    "    color=\"Settimana\",\n",
    "    hover_data=[\"Argomenti\"]\n",
    ")\n",
    "fig.update_yaxes(autorange=\"reversed\")\n",
    "fig.update_layout(title=\"Timeline Piano di Studio\", height=500)\n",
    "fig.show()"
   ],
   "id": "72e8362353839e75"
  }
 ],
 "metadata": {
  "kernelspec": {
   "display_name": "Python (LLMentor)",
   "language": "python",
   "name": "nome_venv"
  },
  "language_info": {
   "codemirror_mode": {
    "name": "ipython",
    "version": 3
   },
   "file_extension": ".py",
   "mimetype": "text/x-python",
   "name": "python",
   "nbconvert_exporter": "python",
   "pygments_lexer": "ipython3",
   "version": "3.11.7"
  }
 },
 "nbformat": 4,
 "nbformat_minor": 5
}
